{
  "metadata": {
    "kernelspec": {
      "name": "python",
      "display_name": "Python (Pyodide)",
      "language": "python"
    },
    "language_info": {
      "codemirror_mode": {
        "name": "python",
        "version": 3
      },
      "file_extension": ".py",
      "mimetype": "text/x-python",
      "name": "python",
      "nbconvert_exporter": "python",
      "pygments_lexer": "ipython3",
      "version": "3.8"
    },
    "anaconda-cloud": {}
  },
  "nbformat_minor": 4,
  "nbformat": 4,
  "cells": [
    {
      "cell_type": "markdown",
      "source": "# DNBLab Jupyter Notebook zum Datenbezug über die SRU-Schnittstelle",
      "metadata": {
        "nbpresent": {
          "id": "d0d72cd5-034d-4b94-a4e2-54f7753cb9f0"
        }
      }
    },
    {
      "cell_type": "markdown",
      "source": "Dieses DNBLab-Tutorial beschreibt eine Beispielabfrage über die SRU-Schnittstelle mit Python. In der Jupyter Notebook Umgebung kann der dokumentierte Code direkt ausgeführt und angepasst werden. Das Tutorial umfasst die exemplarische Abfrage und Ausgabe der Daten in MARC21-xml zur weiteren Verarbeitung mit Python. ",
      "metadata": {
        "nbpresent": {
          "id": "ee78241c-36e7-45e6-b015-0ef46f1e777d"
        }
      }
    },
    {
      "cell_type": "markdown",
      "source": "## Arbeitsumgebung einrichten <a class=\"anchor\" id=\"Teil1\"></a>",
      "metadata": {
        "nbpresent": {
          "id": "3c6f6024-cb7c-4b65-8646-a753069cb5a4"
        },
        "tags": []
      }
    },
    {
      "cell_type": "code",
      "source": "import urllib.parse\nfrom pyodide.http import open_url, pyfetch\nfrom js import fetch\nfrom bs4 import BeautifulSoup as soup\nimport unicodedata\nfrom lxml import etree\nimport pandas as pd",
      "metadata": {
        "trusted": true
      },
      "outputs": [],
      "execution_count": 1
    },
    {
      "cell_type": "markdown",
      "source": "## Abfrage über alle Datensätze <a class=\"anchor\" id=\"Teil2\"></a>",
      "metadata": {}
    },
    {
      "cell_type": "code",
      "source": "async def dnb_sru(query):\n    \n    base_url = \"https://services.dnb.de/sru/dnb\"\n    params = {'recordSchema' : 'MARC21-xml',\n          'operation': 'searchRetrieve',\n          'version': '1.1',\n          'maximumRecords': '100',\n          'query': query\n         }\n    \n    r = await fetch(base_url + \"?\" + urllib.parse.urlencode(params))  \n    r_text = await r.text()\n    xml = soup(r_text, features=\"xml\")\n    records = xml.find_all('record', {'type':'Bibliographic'})\n    \n    \n    if len(records) < 100:\n        \n        return records\n    \n    else:\n        \n        num_results = 100\n        i = 101\n        while num_results == 100:\n            \n            params.update({'startRecord': i})\n            r = await fetch(base_url + \"?\" + urllib.parse.urlencode(params))  \n            r_text = await r.text()\n            xml = soup(r_text, features=\"xml\")\n            new_records = xml.find_all('record', {'type':'Bibliographic'})\n            records+=new_records\n            i+=100\n            num_results = len(new_records)\n            \n        return records",
      "metadata": {
        "trusted": true
      },
      "outputs": [],
      "execution_count": 2
    },
    {
      "cell_type": "markdown",
      "source": "## Felder Titel und Links zu den Objekten durchsuchen <a class=\"anchor\" id=\"Teil3\"></a>",
      "metadata": {}
    },
    {
      "cell_type": "code",
      "source": "def parse_record(record):\n    \n    ns = {\"marc\":\"http://www.loc.gov/MARC21/slim\"}\n    xml = etree.fromstring(unicodedata.normalize(\"NFC\", str(record)))\n    \n    #idn\n    idn = xml.xpath(\"marc:controlfield[@tag = '001']\", namespaces=ns)\n    try:\n        idn = idn[0].text\n    except:\n        idn = 'fail'\n    \n    # link\n    link = xml.xpath(\"marc:datafield[@tag = '856']/marc:subfield[@code = 'u']\", namespaces=ns)\n    \n    try:\n        link = link[0].text\n        #titel = unicodedata.normalize(\"NFC\", titel)\n    except:\n        link = \"unkown\"\n        \n          # titel\n    titel = xml.xpath(\"marc:datafield[@tag = '245']/marc:subfield[@code = 'a']\", namespaces=ns)\n    \n    try:\n        titel = titel[0].text\n        #titel = unicodedata.normalize(\"NFC\", titel)\n    except:\n        titel = \"unkown\"\n        \n    \n    meta_dict = {\"idn\":idn,\n                 \"titel\":titel,\n                 \"link\":link}\n    \n    return meta_dict",
      "metadata": {
        "trusted": true
      },
      "outputs": [],
      "execution_count": 4
    },
    {
      "cell_type": "markdown",
      "source": "## Abfrage Projekt 28 (cod=d028)",
      "metadata": {}
    },
    {
      "cell_type": "code",
      "source": "records = await dnb_sru('cod=d028')\nprint(len(records), 'Ergebnisse')",
      "metadata": {
        "trusted": true
      },
      "outputs": [
        {
          "name": "stdout",
          "text": "196 Ergebnisse\n",
          "output_type": "stream"
        }
      ],
      "execution_count": 9
    },
    {
      "cell_type": "markdown",
      "source": "## Anzeige der Treffer in einer Tabelle  <a class=\"anchor\" id=\"Teil4\"></a>",
      "metadata": {}
    },
    {
      "cell_type": "code",
      "source": "output = [parse_record(record) for record in records]\ndf = pd.DataFrame(output)\ndf",
      "metadata": {
        "trusted": true
      },
      "outputs": [
        {
          "execution_count": 10,
          "output_type": "execute_result",
          "data": {
            "text/plain": "            idn                         titel  \\\n0    1163616249                   13 Konkrete   \n1    1163613266     200 Jahre Frommann-Verlag   \n2    1163614645                      60 Fotos   \n3    1163615773           Abendgesang (Neila)   \n4    1163615218    Abstraktion in der Malerei   \n..          ...                           ...   \n191  1163612235              Willy Baumeister   \n192  1163615420    Zeitberichte und Dokumente   \n193  1163614211  Ziele des Schriftunterrichts   \n194  1163614912               Zum neuen Bauen   \n195  1163615838                Zum neuen Stil   \n\n                                                  link  \n0    https://nbn-resolving.org/urn:nbn:de:101:1-201...  \n1    https://nbn-resolving.org/urn:nbn:de:101:1-201...  \n2    https://nbn-resolving.org/urn:nbn:de:101:1-201...  \n3    https://nbn-resolving.org/urn:nbn:de:101:1-201...  \n4    https://nbn-resolving.org/urn:nbn:de:101:1-201...  \n..                                                 ...  \n191  https://nbn-resolving.org/urn:nbn:de:101:1-201...  \n192  https://nbn-resolving.org/urn:nbn:de:101:1-201...  \n193  https://nbn-resolving.org/urn:nbn:de:101:1-201...  \n194  https://nbn-resolving.org/urn:nbn:de:101:1-201...  \n195  https://nbn-resolving.org/urn:nbn:de:101:1-201...  \n\n[196 rows x 3 columns]",
            "text/html": "<div>\n<style scoped>\n    .dataframe tbody tr th:only-of-type {\n        vertical-align: middle;\n    }\n\n    .dataframe tbody tr th {\n        vertical-align: top;\n    }\n\n    .dataframe thead th {\n        text-align: right;\n    }\n</style>\n<table border=\"1\" class=\"dataframe\">\n  <thead>\n    <tr style=\"text-align: right;\">\n      <th></th>\n      <th>idn</th>\n      <th>titel</th>\n      <th>link</th>\n    </tr>\n  </thead>\n  <tbody>\n    <tr>\n      <th>0</th>\n      <td>1163616249</td>\n      <td>13 Konkrete</td>\n      <td>https://nbn-resolving.org/urn:nbn:de:101:1-201...</td>\n    </tr>\n    <tr>\n      <th>1</th>\n      <td>1163613266</td>\n      <td>200 Jahre Frommann-Verlag</td>\n      <td>https://nbn-resolving.org/urn:nbn:de:101:1-201...</td>\n    </tr>\n    <tr>\n      <th>2</th>\n      <td>1163614645</td>\n      <td>60 Fotos</td>\n      <td>https://nbn-resolving.org/urn:nbn:de:101:1-201...</td>\n    </tr>\n    <tr>\n      <th>3</th>\n      <td>1163615773</td>\n      <td>Abendgesang (Neila)</td>\n      <td>https://nbn-resolving.org/urn:nbn:de:101:1-201...</td>\n    </tr>\n    <tr>\n      <th>4</th>\n      <td>1163615218</td>\n      <td>Abstraktion in der Malerei</td>\n      <td>https://nbn-resolving.org/urn:nbn:de:101:1-201...</td>\n    </tr>\n    <tr>\n      <th>...</th>\n      <td>...</td>\n      <td>...</td>\n      <td>...</td>\n    </tr>\n    <tr>\n      <th>191</th>\n      <td>1163612235</td>\n      <td>Willy Baumeister</td>\n      <td>https://nbn-resolving.org/urn:nbn:de:101:1-201...</td>\n    </tr>\n    <tr>\n      <th>192</th>\n      <td>1163615420</td>\n      <td>Zeitberichte und Dokumente</td>\n      <td>https://nbn-resolving.org/urn:nbn:de:101:1-201...</td>\n    </tr>\n    <tr>\n      <th>193</th>\n      <td>1163614211</td>\n      <td>Ziele des Schriftunterrichts</td>\n      <td>https://nbn-resolving.org/urn:nbn:de:101:1-201...</td>\n    </tr>\n    <tr>\n      <th>194</th>\n      <td>1163614912</td>\n      <td>Zum neuen Bauen</td>\n      <td>https://nbn-resolving.org/urn:nbn:de:101:1-201...</td>\n    </tr>\n    <tr>\n      <th>195</th>\n      <td>1163615838</td>\n      <td>Zum neuen Stil</td>\n      <td>https://nbn-resolving.org/urn:nbn:de:101:1-201...</td>\n    </tr>\n  </tbody>\n</table>\n<p>196 rows × 3 columns</p>\n</div>"
          },
          "metadata": {}
        }
      ],
      "execution_count": 10
    },
    {
      "cell_type": "markdown",
      "source": "# Speichern der Ergebnisse als CSV-Datei!",
      "metadata": {}
    },
    {
      "cell_type": "code",
      "source": "df.to_csv(\"SRU_Titel.csv\", index=False)",
      "metadata": {
        "trusted": true
      },
      "outputs": [],
      "execution_count": 8
    },
    {
      "cell_type": "code",
      "source": "",
      "metadata": {
        "trusted": true
      },
      "outputs": [],
      "execution_count": null
    }
  ]
}