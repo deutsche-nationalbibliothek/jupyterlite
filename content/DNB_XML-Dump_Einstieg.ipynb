{
  "metadata": {
    "kernelspec": {
      "name": "python",
      "display_name": "Python (Pyodide)",
      "language": "python"
    },
    "language_info": {
      "codemirror_mode": {
        "name": "python",
        "version": 3
      },
      "file_extension": ".py",
      "mimetype": "text/x-python",
      "name": "python",
      "nbconvert_exporter": "python",
      "pygments_lexer": "ipython3",
      "version": "3.8"
    }
  },
  "nbformat_minor": 5,
  "nbformat": 4,
  "cells": [
    {
      "id": "84799c28-ecf9-48ef-ab01-30d6dd39f530",
      "cell_type": "markdown",
      "source": "# DNBLab Jupyter Notebook zur Datenextraktion aus XML-Datei",
      "metadata": {}
    },
    {
      "id": "f8012940-74df-40bf-9f9b-6c8479a5b751",
      "cell_type": "markdown",
      "source": "Dieses DNBLab-Tutorial beschreibt das beispielhafte Laden einer XML-Datei im MARC21-Format. In der Jupyter Notebook Umgebung kann der dokumentierte Code direkt ausgeführt und angepasst werden. Das Tutorial umfasst das Durchsuchen der Daten in MARC21-xml und Ausgabe ausgewählter Elemente als CSV-Datei. ",
      "metadata": {}
    },
    {
      "id": "44980022-8ddf-4abc-a007-30aae8f0577e",
      "cell_type": "markdown",
      "source": "## Arbeitsumgebung einrichten <a class=\"anchor\" id=\"Teil1\"></a>",
      "metadata": {}
    },
    {
      "id": "5822ae30-ba11-46f3-a22f-c6d85d11ff9f",
      "cell_type": "code",
      "source": "import pandas as pd\nimport lxml.etree as ET\nfrom bs4 import BeautifulSoup as soup\nimport unicodedata",
      "metadata": {
        "trusted": true
      },
      "outputs": [],
      "execution_count": 1
    },
    {
      "id": "f9a991ba-b854-48e4-9877-1b3520b5352c",
      "cell_type": "markdown",
      "source": "## Laden der Daten aus Datei ",
      "metadata": {}
    },
    {
      "id": "23cbec67-9978-43b5-939c-649f536e08fd",
      "cell_type": "code",
      "source": "# open from file: \nwith open(\"d028.xml\", \"r\", encoding=\"utf-8\") as f2:\n    result = f2.readlines()",
      "metadata": {
        "trusted": true
      },
      "outputs": [],
      "execution_count": 2
    },
    {
      "id": "4b8c7362-da4f-4735-bc92-8cc13ee03563",
      "cell_type": "markdown",
      "source": "## Parsen und Anzeige des ersten Datensatzes",
      "metadata": {}
    },
    {
      "id": "545e8c48-d8bf-4781-b1c3-bbee197cc626",
      "cell_type": "code",
      "source": "content = \"\".join(result)\nxml = soup(content, \"lxml\")\nmyquery = xml.find_all('record', {'type':'Bibliographic'})\nprint(len(myquery))\nprint(myquery[0].prettify())",
      "metadata": {
        "trusted": true,
        "scrolled": true
      },
      "outputs": [
        {
          "name": "stdout",
          "text": "196\n<record type=\"Bibliographic\" xmlns=\"http://www.loc.gov/MARC21/slim\">\n <leader>\n  00000nam a2200000 c 4500\n </leader>\n <controlfield tag=\"001\">\n  1163616249\n </controlfield>\n <controlfield tag=\"003\">\n  DE-101\n </controlfield>\n <controlfield tag=\"005\">\n  20240212135623.0\n </controlfield>\n <controlfield tag=\"007\">\n  cr||||||||||||\n </controlfield>\n <controlfield tag=\"008\">\n  180731r20181964gw |||||o|||| 00||||ger\n </controlfield>\n <datafield ind1=\" \" ind2=\" \" tag=\"015\">\n  <subfield code=\"a\">\n   19,O01\n  </subfield>\n  <subfield code=\"2\">\n   dnb\n  </subfield>\n </datafield>\n <datafield ind1=\"7\" ind2=\" \" tag=\"016\">\n  <subfield code=\"2\">\n   DE-101\n  </subfield>\n  <subfield code=\"a\">\n   1163616249\n  </subfield>\n </datafield>\n <datafield ind1=\"7\" ind2=\" \" tag=\"024\">\n  <subfield code=\"2\">\n   urn\n  </subfield>\n  <subfield code=\"a\">\n   urn:nbn:de:101:1-2018090918265168878989\n  </subfield>\n </datafield>\n <datafield ind1=\" \" ind2=\" \" tag=\"035\">\n  <subfield code=\"a\">\n   (DE-599)DNB1163616249\n  </subfield>\n </datafield>\n <datafield ind1=\" \" ind2=\" \" tag=\"035\">\n  <subfield code=\"a\">\n   (OCoLC)1187509762\n  </subfield>\n </datafield>\n <datafield ind1=\" \" ind2=\" \" tag=\"040\">\n  <subfield code=\"a\">\n   1140\n  </subfield>\n  <subfield code=\"b\">\n   ger\n  </subfield>\n  <subfield code=\"c\">\n   DE-101\n  </subfield>\n  <subfield code=\"d\">\n   1215\n  </subfield>\n </datafield>\n <datafield ind1=\" \" ind2=\" \" tag=\"041\">\n  <subfield code=\"a\">\n   ger\n  </subfield>\n </datafield>\n <datafield ind1=\" \" ind2=\" \" tag=\"044\">\n  <subfield code=\"c\">\n   XA-DE\n  </subfield>\n </datafield>\n <datafield ind1=\" \" ind2=\" \" tag=\"084\">\n  <subfield code=\"a\">\n   46\n  </subfield>\n  <subfield code=\"a\">\n   700\n  </subfield>\n  <subfield code=\"a\">\n   730\n  </subfield>\n  <subfield code=\"a\">\n   740\n  </subfield>\n  <subfield code=\"a\">\n   750\n  </subfield>\n  <subfield code=\"a\">\n   760\n  </subfield>\n  <subfield code=\"q\">\n   DE-101\n  </subfield>\n  <subfield code=\"2\">\n   sdnb\n  </subfield>\n </datafield>\n <datafield ind1=\"0\" ind2=\"0\" tag=\"245\">\n  <subfield code=\"a\">\n   13 Konkrete\n  </subfield>\n  <subfield code=\"b\">\n   Vordemberge-Gildewart ... ; [Kunstverein Ulm im Rathaus, 26. Juli - 6. September 1964]\n  </subfield>\n </datafield>\n <datafield ind1=\"1\" ind2=\"3\" tag=\"246\">\n  <subfield code=\"a\">\n   Dreizehn Konkrete\n  </subfield>\n </datafield>\n <datafield ind1=\" \" ind2=\"1\" tag=\"264\">\n  <subfield code=\"a\">\n   Leipzig\n  </subfield>\n  <subfield code=\"a\">\n   Frankfurt am Main\n  </subfield>\n  <subfield code=\"b\">\n   Deutsche Nationalbibliothek\n  </subfield>\n  <subfield code=\"c\">\n   2018\n  </subfield>\n </datafield>\n <datafield ind1=\" \" ind2=\" \" tag=\"300\">\n  <subfield code=\"a\">\n   1 Online-Ressource ([16] S.)\n  </subfield>\n  <subfield code=\"b\">\n   Ill.\n  </subfield>\n </datafield>\n <datafield ind1=\" \" ind2=\" \" tag=\"336\">\n  <subfield code=\"a\">\n   Text\n  </subfield>\n  <subfield code=\"b\">\n   txt\n  </subfield>\n  <subfield code=\"2\">\n   rdacontent\n  </subfield>\n </datafield>\n <datafield ind1=\" \" ind2=\" \" tag=\"337\">\n  <subfield code=\"a\">\n   Computermedien\n  </subfield>\n  <subfield code=\"b\">\n   c\n  </subfield>\n  <subfield code=\"2\">\n   rdamedia\n  </subfield>\n </datafield>\n <datafield ind1=\" \" ind2=\" \" tag=\"338\">\n  <subfield code=\"a\">\n   Online-Ressource\n  </subfield>\n  <subfield code=\"b\">\n   cr\n  </subfield>\n  <subfield code=\"2\">\n   rdacarrier\n  </subfield>\n </datafield>\n <datafield ind1=\" \" ind2=\" \" tag=\"500\">\n  <subfield code=\"a\">\n   Wahrnehmung der Rechte durch die VG WORT (§ 51 VGG)\n  </subfield>\n </datafield>\n <datafield ind1=\"0\" ind2=\" \" tag=\"506\">\n  <subfield code=\"a\">\n   Open Access\n  </subfield>\n  <subfield code=\"f\">\n   Unrestricted online access\n  </subfield>\n  <subfield code=\"g\">\n   20220111\n  </subfield>\n  <subfield code=\"q\">\n   DNB\n  </subfield>\n  <subfield code=\"u\">\n   http://purl.org/coar/access_right/c_abf2\n  </subfield>\n  <subfield code=\"2\">\n   star\n  </subfield>\n </datafield>\n <datafield ind1=\" \" ind2=\" \" tag=\"540\">\n  <subfield code=\"a\">\n   Urheberrechtsschutz, Wahrnehmung der Rechte durch die VG WORT (§ 51 VGG)\n  </subfield>\n  <subfield code=\"f\">\n   InC 1.0\n  </subfield>\n  <subfield code=\"g\">\n   20220111\n  </subfield>\n  <subfield code=\"q\">\n   DNB\n  </subfield>\n  <subfield code=\"u\">\n   http://rightsstatements.org/vocab/InC/1.0/\n  </subfield>\n </datafield>\n <datafield ind1=\"1\" ind2=\" \" tag=\"583\">\n  <subfield code=\"a\">\n   Archivierung/Langzeitarchivierung gewährleistet\n  </subfield>\n  <subfield code=\"5\">\n   DE-101\n  </subfield>\n  <subfield code=\"2\">\n   pdager\n  </subfield>\n </datafield>\n <datafield ind1=\"1\" ind2=\" \" tag=\"700\">\n  <subfield code=\"0\">\n   (DE-588)118627864\n  </subfield>\n  <subfield code=\"0\">\n   https://d-nb.info/gnd/118627864\n  </subfield>\n  <subfield code=\"0\">\n   (DE-101)118627864\n  </subfield>\n  <subfield code=\"a\">\n   Vordemberge-Gildewart, Friedrich\n  </subfield>\n  <subfield code=\"d\">\n   1899-1962\n  </subfield>\n  <subfield code=\"e\">\n   Illustrator\n  </subfield>\n  <subfield code=\"4\">\n   ill\n  </subfield>\n  <subfield code=\"2\">\n   gnd\n  </subfield>\n </datafield>\n <datafield ind1=\"0\" ind2=\"8\" tag=\"776\">\n  <subfield code=\"i\">\n   Elektronische Reproduktion von\n  </subfield>\n  <subfield code=\"t\">\n   Dreizehn Konkrete\n  </subfield>\n  <subfield code=\"d\">\n   Ulm : Kunstverein, 1964\n  </subfield>\n  <subfield code=\"h\">\n   [16] S., Ill.\n  </subfield>\n  <subfield code=\"w\">\n   (DE-101)830311173\n  </subfield>\n </datafield>\n <datafield ind1=\" \" ind2=\" \" tag=\"850\">\n  <subfield code=\"a\">\n   DE-101a\n  </subfield>\n  <subfield code=\"a\">\n   DE-101b\n  </subfield>\n </datafield>\n <datafield ind1=\"4\" ind2=\"0\" tag=\"856\">\n  <subfield code=\"u\">\n   https://nbn-resolving.org/urn:nbn:de:101:1-2018090918265168878989\n  </subfield>\n  <subfield code=\"x\">\n   Resolving-System\n  </subfield>\n </datafield>\n <datafield ind1=\" \" ind2=\"0\" tag=\"856\">\n  <subfield code=\"u\">\n   https://d-nb.info/1163616249/34\n  </subfield>\n  <subfield code=\"x\">\n   Langzeitarchivierung Nationalbibliothek\n  </subfield>\n </datafield>\n <datafield ind1=\"r\" ind2=\" \" tag=\"925\">\n  <subfield code=\"a\">\n   ro\n  </subfield>\n </datafield>\n <datafield ind1=\"d\" ind2=\" \" tag=\"925\">\n  <subfield code=\"a\">\n   d028\n  </subfield>\n </datafield>\n <datafield ind1=\" \" ind2=\" \" tag=\"927\">\n  <subfield code=\"a\">\n   174292998\n  </subfield>\n </datafield>\n</record>\n\n",
          "output_type": "stream"
        }
      ],
      "execution_count": 9
    },
    {
      "id": "fb7da37e-ed4d-4efa-bd84-849afd6ef969",
      "cell_type": "markdown",
      "source": "## Suche nach ausgewählten Informationen in den einzelnen Datensätzen",
      "metadata": {}
    },
    {
      "id": "b2d2703e-ce32-4451-bc33-34d28dbacb3c",
      "cell_type": "code",
      "source": "#Funktion für Titeldaten in MARC21\n\ndef parse_record_marc(item):\n\n    ns = {\"marc\":\"http://www.loc.gov/MARC21/slim\"}\n    xml = ET.fromstring(unicodedata.normalize(\"NFC\", str(item)))\n    \n    #idn\n    idn = xml.findall(\"marc:controlfield[@tag = '001']\", namespaces=ns)\n    try:\n        idn = idn[0].text\n    except:\n        idn = 'N/A' \n        \n    \n    #Titel \n    title = xml.findall(\"marc:datafield[@tag = '245']/marc:subfield[@code = 'a']\", namespaces=ns)\n    title2 = xml.findall(\"marc:datafield[@tag = '245']/marc:subfield[@code = 'b']\", namespaces=ns)\n    \n    if title and not title2:\n        titletext = title[0].text\n    elif title and title2:     \n        titletext = title[0].text + \" \" + title2[0].text   #Hier wird extra nur mit einem Leerzeichen getrennt statt eines Separators\n    else:\n        titletext = \"N/A\"\n    \n    \n    #date\n    date = xml.findall(\"marc:datafield[@tag = '264']/marc:subfield[@code = 'c']\", namespaces=ns)\n    date2 = xml.findall(\"marc:controlfield[@tag = '008']\", namespaces=ns)\n    if date:\n        date = date[0].text\n    elif date2:\n        date = date2[0].text\n        date = date[7:11]\n    else:    \n        date = 'N/A'\n          \n    #lang:\n    lang = xml.findall(\"marc:datafield[@tag = '041']/marc:subfield[@code = 'a']\", namespaces=ns)\n    try:\n        lang = lang[0].text\n    except:\n        lang = 'N/A'\n    \n    \n    #URN: \n    urn = \"N/A\"\n    for urn in xml.findall(\"marc:datafield[@tag = '024']/marc:subfield[@code = 'a']\", namespaces=ns):\n        if urn.text.startswith(\"urn:nbn\"):\n            urn = urn.text\n        else: \n            urn = \"N/A\"\n    \n    \n    meta_dict = {\"idn\":idn, \"title\": titletext, \"date\":date, \"lang\":lang, \"urn\":urn} \n               \n    return meta_dict\n    ",
      "metadata": {
        "trusted": true
      },
      "outputs": [],
      "execution_count": 10
    },
    {
      "id": "01f48c20-5752-4b69-89fa-f902b1f74e4d",
      "cell_type": "markdown",
      "source": "## Sammeln der extrahierten Informationen aus allen Datensätzen",
      "metadata": {}
    },
    {
      "id": "6597d705-6952-44d0-b0f4-d0c6b3599954",
      "cell_type": "code",
      "source": "output = [parse_record_marc(record) for record in myquery]",
      "metadata": {
        "trusted": true
      },
      "outputs": [],
      "execution_count": 12
    },
    {
      "id": "0879bf8b-a447-45e4-97dd-4065656d6e04",
      "cell_type": "markdown",
      "source": "## Anzeige der Daten in einer Tabelle/ Dataframe",
      "metadata": {}
    },
    {
      "id": "84639af9-da1e-4039-bec7-d7743682cf2e",
      "cell_type": "code",
      "source": "df = pd.DataFrame(output)\ndf",
      "metadata": {
        "trusted": true
      },
      "outputs": [
        {
          "execution_count": 13,
          "output_type": "execute_result",
          "data": {
            "text/plain": "            idn                                              title  date lang  \\\n0    1163616249  13 Konkrete Vordemberge-Gildewart ... ; [Kunst...  2018  ger   \n1    1163613266              200 Jahre Frommann-Verlag [1727-1927]  2018  ger   \n2    1163614645                                           60 Fotos  2018  ger   \n3    1163615773                Abendgesang (Neila) Letzte Gedichte  2018  ger   \n4    1163615218  Abstraktion in der Malerei Kandinsky, Feininge...  2018  ger   \n..          ...                                                ...   ...  ...   \n191  1163612235  Willy Baumeister [Ausstellung Willy Baumeister...  2018  ger   \n192  1163615420                         Zeitberichte und Dokumente  2018  ger   \n193  1163614211  Ziele des Schriftunterrichts Ein Beitr. zur mo...  2018  ger   \n194  1163614912                           Zum neuen Bauen Vorträge  2018  ger   \n195  1163615838                                     Zum neuen Stil  2018  ger   \n\n                                         urn  \n0    urn:nbn:de:101:1-2018090918265168878989  \n1    urn:nbn:de:101:1-2018090917393540952215  \n2    urn:nbn:de:101:1-2018101418234208736122  \n3    urn:nbn:de:101:1-2018090918272331231107  \n4    urn:nbn:de:101:1-2018090918270991257647  \n..                                       ...  \n191  urn:nbn:de:101:1-2018102211013265416631  \n192  urn:nbn:de:101:1-2018101418250397989578  \n193  urn:nbn:de:101:1-2018090917544063233045  \n194  urn:nbn:de:101:1-2018092317065678945974  \n195  urn:nbn:de:101:1-2018091618182280146612  \n\n[196 rows x 5 columns]",
            "text/html": "<div>\n<style scoped>\n    .dataframe tbody tr th:only-of-type {\n        vertical-align: middle;\n    }\n\n    .dataframe tbody tr th {\n        vertical-align: top;\n    }\n\n    .dataframe thead th {\n        text-align: right;\n    }\n</style>\n<table border=\"1\" class=\"dataframe\">\n  <thead>\n    <tr style=\"text-align: right;\">\n      <th></th>\n      <th>idn</th>\n      <th>title</th>\n      <th>date</th>\n      <th>lang</th>\n      <th>urn</th>\n    </tr>\n  </thead>\n  <tbody>\n    <tr>\n      <th>0</th>\n      <td>1163616249</td>\n      <td>13 Konkrete Vordemberge-Gildewart ... ; [Kunst...</td>\n      <td>2018</td>\n      <td>ger</td>\n      <td>urn:nbn:de:101:1-2018090918265168878989</td>\n    </tr>\n    <tr>\n      <th>1</th>\n      <td>1163613266</td>\n      <td>200 Jahre Frommann-Verlag [1727-1927]</td>\n      <td>2018</td>\n      <td>ger</td>\n      <td>urn:nbn:de:101:1-2018090917393540952215</td>\n    </tr>\n    <tr>\n      <th>2</th>\n      <td>1163614645</td>\n      <td>60 Fotos</td>\n      <td>2018</td>\n      <td>ger</td>\n      <td>urn:nbn:de:101:1-2018101418234208736122</td>\n    </tr>\n    <tr>\n      <th>3</th>\n      <td>1163615773</td>\n      <td>Abendgesang (Neila) Letzte Gedichte</td>\n      <td>2018</td>\n      <td>ger</td>\n      <td>urn:nbn:de:101:1-2018090918272331231107</td>\n    </tr>\n    <tr>\n      <th>4</th>\n      <td>1163615218</td>\n      <td>Abstraktion in der Malerei Kandinsky, Feininge...</td>\n      <td>2018</td>\n      <td>ger</td>\n      <td>urn:nbn:de:101:1-2018090918270991257647</td>\n    </tr>\n    <tr>\n      <th>...</th>\n      <td>...</td>\n      <td>...</td>\n      <td>...</td>\n      <td>...</td>\n      <td>...</td>\n    </tr>\n    <tr>\n      <th>191</th>\n      <td>1163612235</td>\n      <td>Willy Baumeister [Ausstellung Willy Baumeister...</td>\n      <td>2018</td>\n      <td>ger</td>\n      <td>urn:nbn:de:101:1-2018102211013265416631</td>\n    </tr>\n    <tr>\n      <th>192</th>\n      <td>1163615420</td>\n      <td>Zeitberichte und Dokumente</td>\n      <td>2018</td>\n      <td>ger</td>\n      <td>urn:nbn:de:101:1-2018101418250397989578</td>\n    </tr>\n    <tr>\n      <th>193</th>\n      <td>1163614211</td>\n      <td>Ziele des Schriftunterrichts Ein Beitr. zur mo...</td>\n      <td>2018</td>\n      <td>ger</td>\n      <td>urn:nbn:de:101:1-2018090917544063233045</td>\n    </tr>\n    <tr>\n      <th>194</th>\n      <td>1163614912</td>\n      <td>Zum neuen Bauen Vorträge</td>\n      <td>2018</td>\n      <td>ger</td>\n      <td>urn:nbn:de:101:1-2018092317065678945974</td>\n    </tr>\n    <tr>\n      <th>195</th>\n      <td>1163615838</td>\n      <td>Zum neuen Stil</td>\n      <td>2018</td>\n      <td>ger</td>\n      <td>urn:nbn:de:101:1-2018091618182280146612</td>\n    </tr>\n  </tbody>\n</table>\n<p>196 rows × 5 columns</p>\n</div>"
          },
          "metadata": {}
        }
      ],
      "execution_count": 13
    },
    {
      "id": "b144f41c-5a10-4944-88e5-ab42c88469cf",
      "cell_type": "markdown",
      "source": "## Export der Daten als CSV-Datei",
      "metadata": {}
    },
    {
      "id": "eebef657-a133-4dba-a580-5d8b6467c4ca",
      "cell_type": "code",
      "source": "df.to_csv(\"Dump_Titel.csv\", index=False)",
      "metadata": {
        "trusted": true
      },
      "outputs": [],
      "execution_count": 14
    },
    {
      "id": "172ffa43-f157-4a06-8af9-a0c0b73a12d0",
      "cell_type": "code",
      "source": "",
      "metadata": {},
      "outputs": [],
      "execution_count": null
    }
  ]
}